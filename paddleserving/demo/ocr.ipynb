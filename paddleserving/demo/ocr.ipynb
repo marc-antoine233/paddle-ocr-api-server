{
 "cells": [
  {
   "cell_type": "code",
   "execution_count": 1,
   "metadata": {},
   "outputs": [],
   "source": [
    "import requests\n",
    "import json\n",
    "import base64\n",
    "import os\n"
   ]
  },
  {
   "cell_type": "code",
   "execution_count": 2,
   "metadata": {},
   "outputs": [
    {
     "name": "stdout",
     "output_type": "stream",
     "text": [
      "**********./demo.png**********\n",
      "erro_no:0, err_msg:\n",
      "('α app', 0.8136419), [[99.0, 29.0], [179.0, 31.0], [177.0, 54.0], [97.0, 52.0]]\n",
      "('OnePlus GM1900', 0.96538794), [[292.0, 30.0], [470.0, 30.0], [470.0, 49.0], [292.0, 49.0]]\n",
      "==> total number of test imgs:  1\n"
     ]
    }
   ],
   "source": [
    "\n",
    "def cv2_to_base64(image):\n",
    "    return base64.b64encode(image).decode('utf8')\n",
    "\n",
    "\n",
    "def _check_image_file(path):\n",
    "    img_end = {'jpg', 'bmp', 'png', 'jpeg', 'rgb', 'tif', 'tiff', 'gif'}\n",
    "    return any([path.lower().endswith(e) for e in img_end])\n",
    "\n",
    "# URL 需要根据容器实际部署的地址填写\n",
    "url = \"http://x.x.x.x:9998/ocr/prediction\"\n",
    "\n",
    "test_img_dir = \".\"\n",
    "\n",
    "test_img_list = []\n",
    "if os.path.isfile(test_img_dir) and _check_image_file(test_img_dir):\n",
    "    test_img_list.append(test_img_dir)\n",
    "elif os.path.isdir(test_img_dir):\n",
    "    for single_file in os.listdir(test_img_dir):\n",
    "        file_path = os.path.join(test_img_dir, single_file)\n",
    "        if os.path.isfile(file_path) and _check_image_file(file_path):\n",
    "            test_img_list.append(file_path)\n",
    "if len(test_img_list) == 0:\n",
    "    raise Exception(\"not found any img file in {}\".format(test_img_dir))\n",
    "\n",
    "\n",
    "for idx, img_file in enumerate(test_img_list):\n",
    "    with open(img_file, 'rb') as file:\n",
    "        image_data1 = file.read()\n",
    "    # print file name\n",
    "    print('{}{}{}'.format('*' * 10, img_file, '*' * 10))\n",
    "\n",
    "    image = cv2_to_base64(image_data1)\n",
    "\n",
    "    data = {\"key\": [\"image\"], \"value\": [image]}\n",
    "    r = requests.post(url=url, data=json.dumps(data))\n",
    "    # 识别结果在result中 可根据需求自行处理\n",
    "    result = r.json()\n",
    "    print(\"erro_no:{}, err_msg:{}\".format(result[\"err_no\"], result[\"err_msg\"]))\n",
    "    # check success\n",
    "    if result[\"err_no\"] == 0:\n",
    "        ocr_result = result[\"value\"][0]\n",
    "        if not True:\n",
    "            print(ocr_result)\n",
    "        else:\n",
    "            try:\n",
    "                for item in eval(ocr_result):\n",
    "                    # return transcription and points\n",
    "                    print(\"{}, {}\".format(item[0], item[1]))\n",
    "            except Exception as e:\n",
    "                print(ocr_result)\n",
    "                print(\"No results\")\n",
    "                continue\n",
    "\n",
    "    else:\n",
    "        print(\n",
    "            \"For details about error message, see PipelineServingLogs/pipeline.log\"\n",
    "        )\n",
    "print(\"==> total number of test imgs: \", len(test_img_list))"
   ]
  }
 ],
 "metadata": {
  "kernelspec": {
   "display_name": "Python 3",
   "language": "python",
   "name": "python3"
  },
  "language_info": {
   "codemirror_mode": {
    "name": "ipython",
    "version": 3
   },
   "file_extension": ".py",
   "mimetype": "text/x-python",
   "name": "python",
   "nbconvert_exporter": "python",
   "pygments_lexer": "ipython3",
   "version": "3.8.10"
  },
  "orig_nbformat": 4
 },
 "nbformat": 4,
 "nbformat_minor": 2
}
